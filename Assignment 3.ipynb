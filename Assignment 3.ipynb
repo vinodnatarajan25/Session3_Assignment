{
 "cells": [
  {
   "cell_type": "code",
   "execution_count": null,
   "metadata": {},
   "outputs": [],
   "source": [
    "# Assignment 3 Session 1"
   ]
  },
  {
   "cell_type": "code",
   "execution_count": 1,
   "metadata": {
    "scrolled": true
   },
   "outputs": [
    {
     "name": "stdout",
     "output_type": "stream",
     "text": [
      "Enter Number 1 : 5\n",
      "Enter Number 2 : 0\n",
      "In Try !!!   \n",
      "Inside Exception !!! division by zero\n",
      "Inside Finally !!! Try with different denominator\n"
     ]
    }
   ],
   "source": [
    "# Question 1.\n",
    "# Write a function to compute 5/0 and use try/except to catch the exceptions. 3 Session 1\n",
    "\n",
    "def div(n1,n2):\n",
    "        try:\n",
    "            print(\"In Try !!!   \")\n",
    "            out= n1/n2               \n",
    "        except ZeroDivisionError as e:   # Catching Zero Division Exception\n",
    "            print(\"Inside Exception !!! \" +str(e))\n",
    "        else:                      # Printing calculated value if there are no exception\n",
    "            print(\"Inside Else !!!  \"+str(out))            \n",
    "        finally:                   # Printing irrespective of exception occurred or not\n",
    "            if(n2==0):\n",
    "                print(\"Inside Finally !!! Try with different denominator\")\n",
    "            else:\n",
    "                print(\"Inside Finally !!! Calculation Successful !!!\")\n",
    "                        \n",
    "num1 = int(input(\"Enter Number 1 : \"))\n",
    "num2 = int(input(\"Enter Number 2 : \"))\n",
    "div(num1,num2)"
   ]
  },
  {
   "cell_type": "code",
   "execution_count": 2,
   "metadata": {},
   "outputs": [
    {
     "name": "stdout",
     "output_type": "stream",
     "text": [
      "Americans play Baseball\n",
      "Americans play Cricket\n",
      "Americans watch Baseball\n",
      "Americans watch Cricket\n",
      "Indians play Baseball\n",
      "Indians play Cricket\n",
      "Indians watch Baseball\n",
      "Indians watch Cricket\n"
     ]
    }
   ],
   "source": [
    "# Question 2\n",
    "# Implement a Python program to generate all sentences where subject is in [\"Americans\",\"Indians\"] and verb is in [\"Play\", \"watch\"] and the object is in [\"Baseball\",\"cricket\"].\n",
    "# Hint: Subject,Verb and Object should be declared in the program as shown below.\n",
    "# subjects=[\"Americans \",\"Indians\"]\n",
    "# verbs=[\"play\",\"watch\"]\n",
    "# objects=[\"Baseball\",\"Cricket\"]\n",
    "\n",
    "subjects=[\"Americans\",\"Indians\"]\n",
    "verbs=[\"play\",\"watch\"]\n",
    "objects=[\"Baseball\",\"Cricket\"]\n",
    "\n",
    "sentence=[(sub+\" \"+ver+\" \"+obj) for sub in subjects for ver in verbs for obj in objects]\n",
    "for sent in sentence:\n",
    "    print(sent)\n"
   ]
  },
  {
   "cell_type": "code",
   "execution_count": 3,
   "metadata": {},
   "outputs": [
    {
     "name": "stdout",
     "output_type": "stream",
     "text": [
      "Decreasing\n",
      "[[ 1  1  1]\n",
      " [ 4  2  1]\n",
      " [ 9  3  1]\n",
      " [25  5  1]]\n",
      "====================\n",
      "Increasing\n",
      "[[ 1  1  1]\n",
      " [ 1  2  4]\n",
      " [ 1  3  9]\n",
      " [ 1  5 25]]\n"
     ]
    }
   ],
   "source": [
    "# Question 3\n",
    "# The columns of the output matrix are powers of the input vector. \n",
    "# The order of the powers is determined by the increasing boolean argument. \n",
    "# Specifically, when increasing is False, the i-th output column is the input vector raised element-wise \n",
    "# to the power of N - i - 1. \n",
    "# Such a matrix with a geometric progression in each row is named for Alexandre- Theophile Vandermonde.\n",
    "\n",
    "import numpy as np\n",
    "\n",
    "def myvander(x, N=None, increasing=False):\n",
    "    if increasing==False:\n",
    "        return (np.column_stack([x**(N-i-1) for i in range(N)]))\n",
    "    else:\n",
    "        return (np.column_stack([x**(i) for i in range(0,N)]))\n",
    "\n",
    "x=np.array([1,2,3,5])\n",
    "N=3\n",
    "print(\"Decreasing\")\n",
    "print(myvander(x,N,False))\n",
    "print(\"=\"*20)\n",
    "print(\"Increasing\")\n",
    "print(myvander(x,N,True))\n"
   ]
  }
 ],
 "metadata": {
  "kernelspec": {
   "display_name": "Python 3",
   "language": "python",
   "name": "python3"
  },
  "language_info": {
   "codemirror_mode": {
    "name": "ipython",
    "version": 3
   },
   "file_extension": ".py",
   "mimetype": "text/x-python",
   "name": "python",
   "nbconvert_exporter": "python",
   "pygments_lexer": "ipython3",
   "version": "3.7.0"
  }
 },
 "nbformat": 4,
 "nbformat_minor": 2
}
